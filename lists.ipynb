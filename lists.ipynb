{
 "cells": [
  {
   "cell_type": "markdown",
   "id": "eef81901",
   "metadata": {},
   "source": [
    "# Collections in Python\n",
    "\n",
    "* List\n",
    "* Tuple\n",
    "* Set\n",
    "* Dict"
   ]
  },
  {
   "cell_type": "code",
   "execution_count": 19,
   "id": "b9432a50",
   "metadata": {},
   "outputs": [
    {
     "name": "stdout",
     "output_type": "stream",
     "text": [
      "[2, 3.5, (5+9j), 'Python']\n"
     ]
    }
   ],
   "source": [
    "a = [2,3.5,5+9j,\"Python\"]\n",
    "print(a)"
   ]
  },
  {
   "cell_type": "code",
   "execution_count": 3,
   "id": "39097320",
   "metadata": {},
   "outputs": [
    {
     "data": {
      "text/plain": [
       "2"
      ]
     },
     "execution_count": 3,
     "metadata": {},
     "output_type": "execute_result"
    }
   ],
   "source": [
    "a[0]"
   ]
  },
  {
   "cell_type": "code",
   "execution_count": 5,
   "id": "fac221c4",
   "metadata": {},
   "outputs": [
    {
     "name": "stdout",
     "output_type": "stream",
     "text": [
      "[2, 3.5, (5+9j), 'Java']\n"
     ]
    }
   ],
   "source": [
    "a[-1] = \"Java\"\n",
    "print(a)"
   ]
  },
  {
   "cell_type": "code",
   "execution_count": 6,
   "id": "7c3e7799",
   "metadata": {},
   "outputs": [
    {
     "data": {
      "text/plain": [
       "[2, 3.5, (5+9j), 'Java']"
      ]
     },
     "execution_count": 6,
     "metadata": {},
     "output_type": "execute_result"
    }
   ],
   "source": [
    "a"
   ]
  },
  {
   "cell_type": "code",
   "execution_count": 7,
   "id": "84eff559",
   "metadata": {},
   "outputs": [
    {
     "data": {
      "text/plain": [
       "[2, 3.5, (5+9j), 'Java']"
      ]
     },
     "execution_count": 7,
     "metadata": {},
     "output_type": "execute_result"
    }
   ],
   "source": [
    "a"
   ]
  },
  {
   "cell_type": "code",
   "execution_count": 8,
   "id": "0d453d5d",
   "metadata": {},
   "outputs": [
    {
     "name": "stdout",
     "output_type": "stream",
     "text": [
      "[2, 3.5, (5+9j), 'Java']\n"
     ]
    }
   ],
   "source": [
    "b = a\n",
    "print(b)"
   ]
  },
  {
   "cell_type": "code",
   "execution_count": 9,
   "id": "ee04ef42",
   "metadata": {},
   "outputs": [
    {
     "data": {
      "text/plain": [
       "['Ml', 3.5, (5+9j), 'Java']"
      ]
     },
     "execution_count": 9,
     "metadata": {},
     "output_type": "execute_result"
    }
   ],
   "source": [
    "b[0] = \"Ml\"\n",
    "b"
   ]
  },
  {
   "cell_type": "code",
   "execution_count": 10,
   "id": "5963a9c8",
   "metadata": {},
   "outputs": [
    {
     "data": {
      "text/plain": [
       "['Ml', 3.5, (5+9j), 'Java']"
      ]
     },
     "execution_count": 10,
     "metadata": {},
     "output_type": "execute_result"
    }
   ],
   "source": [
    "a"
   ]
  },
  {
   "cell_type": "code",
   "execution_count": 11,
   "id": "b03caf8d",
   "metadata": {},
   "outputs": [
    {
     "data": {
      "text/plain": [
       "['Ml', 3.5, (5+9j), 'Java']"
      ]
     },
     "execution_count": 11,
     "metadata": {},
     "output_type": "execute_result"
    }
   ],
   "source": [
    "b"
   ]
  },
  {
   "cell_type": "code",
   "execution_count": 12,
   "id": "19b514fe",
   "metadata": {},
   "outputs": [],
   "source": [
    "c = b.copy()"
   ]
  },
  {
   "cell_type": "code",
   "execution_count": 13,
   "id": "5d73109f",
   "metadata": {},
   "outputs": [
    {
     "data": {
      "text/plain": [
       "['Ml', 3.5, (5+9j), 'Java']"
      ]
     },
     "execution_count": 13,
     "metadata": {},
     "output_type": "execute_result"
    }
   ],
   "source": [
    "b"
   ]
  },
  {
   "cell_type": "code",
   "execution_count": 14,
   "id": "b0ade706",
   "metadata": {},
   "outputs": [
    {
     "data": {
      "text/plain": [
       "['Ml', 3.5, (5+9j), 'Java']"
      ]
     },
     "execution_count": 14,
     "metadata": {},
     "output_type": "execute_result"
    }
   ],
   "source": [
    "c"
   ]
  },
  {
   "cell_type": "code",
   "execution_count": 15,
   "id": "dc8ea55e",
   "metadata": {},
   "outputs": [
    {
     "data": {
      "text/plain": [
       "['DL', 3.5, (5+9j), 'Java']"
      ]
     },
     "execution_count": 15,
     "metadata": {},
     "output_type": "execute_result"
    }
   ],
   "source": [
    "b[0] = \"DL\"\n",
    "b"
   ]
  },
  {
   "cell_type": "code",
   "execution_count": 16,
   "id": "046f1525",
   "metadata": {},
   "outputs": [
    {
     "data": {
      "text/plain": [
       "['Ml', 3.5, (5+9j), 'Java']"
      ]
     },
     "execution_count": 16,
     "metadata": {},
     "output_type": "execute_result"
    }
   ],
   "source": [
    "c"
   ]
  },
  {
   "cell_type": "code",
   "execution_count": 17,
   "id": "2b02837d",
   "metadata": {},
   "outputs": [
    {
     "data": {
      "text/plain": [
       "['DL', 3.5, (5+9j), 'Java']"
      ]
     },
     "execution_count": 17,
     "metadata": {},
     "output_type": "execute_result"
    }
   ],
   "source": [
    "a"
   ]
  },
  {
   "cell_type": "code",
   "execution_count": 20,
   "id": "21d9c69c",
   "metadata": {},
   "outputs": [
    {
     "data": {
      "text/plain": [
       "[2, 3.5, (5+9j), 'Python', [2, 3, '55']]"
      ]
     },
     "execution_count": 20,
     "metadata": {},
     "output_type": "execute_result"
    }
   ],
   "source": [
    "a.append([2,3,\"55\"])\n",
    "a"
   ]
  },
  {
   "cell_type": "code",
   "execution_count": 21,
   "id": "60a93460",
   "metadata": {},
   "outputs": [
    {
     "data": {
      "text/plain": [
       "[2, 3.5, (5+9j), 'Python', [2, 3, '55'], 55, 99, 'Hi']"
      ]
     },
     "execution_count": 21,
     "metadata": {},
     "output_type": "execute_result"
    }
   ],
   "source": [
    "a.extend([55,99,\"Hi\"])\n",
    "a"
   ]
  },
  {
   "cell_type": "code",
   "execution_count": 26,
   "id": "962d0fa5",
   "metadata": {},
   "outputs": [
    {
     "data": {
      "text/plain": [
       "[2, 3.5, (5+9j), 'Python', [2, 3, 'Julia'], 55, 99, 'Hi']"
      ]
     },
     "execution_count": 26,
     "metadata": {},
     "output_type": "execute_result"
    }
   ],
   "source": [
    "b = a.copy()\n",
    "b[-4][-1] = \"Julia\"\n",
    "b"
   ]
  },
  {
   "cell_type": "code",
   "execution_count": 27,
   "id": "87a05109",
   "metadata": {},
   "outputs": [
    {
     "data": {
      "text/plain": [
       "[2, 3.5, (5+9j), 'Python', [2, 3, 'Julia'], 55, 99, 'Hi']"
      ]
     },
     "execution_count": 27,
     "metadata": {},
     "output_type": "execute_result"
    }
   ],
   "source": [
    "a"
   ]
  },
  {
   "cell_type": "code",
   "execution_count": 28,
   "id": "a776f429",
   "metadata": {},
   "outputs": [
    {
     "data": {
      "text/plain": [
       "[2, 3.5, (5+9j), 'Python', [2, 3, 'Julia'], 55, 99, 'Hi']"
      ]
     },
     "execution_count": 28,
     "metadata": {},
     "output_type": "execute_result"
    }
   ],
   "source": [
    "import copy\n",
    "c = copy.deepcopy(b)\n",
    "c"
   ]
  },
  {
   "cell_type": "code",
   "execution_count": 29,
   "id": "22250ebd",
   "metadata": {},
   "outputs": [
    {
     "data": {
      "text/plain": [
       "[2, 3.5, (5+9j), 'Python', [2, 3, 'Julia'], 55, 99, 'Hi']"
      ]
     },
     "execution_count": 29,
     "metadata": {},
     "output_type": "execute_result"
    }
   ],
   "source": [
    "b"
   ]
  },
  {
   "cell_type": "code",
   "execution_count": 30,
   "id": "704085b7",
   "metadata": {},
   "outputs": [
    {
     "data": {
      "text/plain": [
       "[2, 3.5, (5+9j), 'Python', [2, 3, 'Java'], 55, 99, 'Hi']"
      ]
     },
     "execution_count": 30,
     "metadata": {},
     "output_type": "execute_result"
    }
   ],
   "source": [
    "b[-4][-1] = \"Java\"\n",
    "b"
   ]
  },
  {
   "cell_type": "code",
   "execution_count": 31,
   "id": "8f4f76ee",
   "metadata": {},
   "outputs": [
    {
     "data": {
      "text/plain": [
       "[2, 3.5, (5+9j), 'Python', [2, 3, 'Julia'], 55, 99, 'Hi']"
      ]
     },
     "execution_count": 31,
     "metadata": {},
     "output_type": "execute_result"
    }
   ],
   "source": [
    "c"
   ]
  },
  {
   "cell_type": "code",
   "execution_count": 32,
   "id": "2033727f",
   "metadata": {},
   "outputs": [
    {
     "data": {
      "text/plain": [
       "[2, 3.5, (5+9j), 'Python', [2, 3, 'Java'], 55, 99, 'Hi']"
      ]
     },
     "execution_count": 32,
     "metadata": {},
     "output_type": "execute_result"
    }
   ],
   "source": [
    "a"
   ]
  },
  {
   "cell_type": "code",
   "execution_count": 33,
   "id": "a9f48d91",
   "metadata": {},
   "outputs": [
    {
     "data": {
      "text/plain": [
       "[1, 2, 3, 4]"
      ]
     },
     "execution_count": 33,
     "metadata": {},
     "output_type": "execute_result"
    }
   ],
   "source": [
    "list(range(1,5))"
   ]
  },
  {
   "cell_type": "code",
   "execution_count": 37,
   "id": "d341ea8a",
   "metadata": {},
   "outputs": [
    {
     "data": {
      "text/plain": [
       "'phani'"
      ]
     },
     "execution_count": 37,
     "metadata": {},
     "output_type": "execute_result"
    }
   ],
   "source": [
    "a = \"Phani\"\n",
    "# a[0] = \"p\"\n",
    "a.replace(\"P\",\"p\")"
   ]
  },
  {
   "cell_type": "code",
   "execution_count": 38,
   "id": "9ac4ffd1",
   "metadata": {},
   "outputs": [
    {
     "data": {
      "text/plain": [
       "tuple"
      ]
     },
     "execution_count": 38,
     "metadata": {},
     "output_type": "execute_result"
    }
   ],
   "source": [
    "a = (2,5,3+4j,\"Python\")\n",
    "type(a)"
   ]
  },
  {
   "cell_type": "code",
   "execution_count": 101,
   "id": "13f92de0",
   "metadata": {},
   "outputs": [
    {
     "data": {
      "text/plain": [
       "[55, 'Hi', 'Python', 'Pk']"
      ]
     },
     "execution_count": 101,
     "metadata": {},
     "output_type": "execute_result"
    }
   ],
   "source": [
    "a[0] = 55\n",
    "a"
   ]
  },
  {
   "cell_type": "code",
   "execution_count": 41,
   "id": "7b54e9f7",
   "metadata": {},
   "outputs": [
    {
     "data": {
      "text/plain": [
       "[2, 5, (3+4j), 'Python']"
      ]
     },
     "execution_count": 41,
     "metadata": {},
     "output_type": "execute_result"
    }
   ],
   "source": [
    "b = list(a)\n",
    "b"
   ]
  },
  {
   "cell_type": "code",
   "execution_count": 43,
   "id": "3e59e419",
   "metadata": {},
   "outputs": [
    {
     "name": "stdout",
     "output_type": "stream",
     "text": [
      "1\n",
      "2\n",
      "3\n",
      "hello\n"
     ]
    }
   ],
   "source": [
    "for i in range(1,5):\n",
    "    if i == 4:\n",
    "        continue\n",
    "    else:\n",
    "        print(i)\n",
    "else:\n",
    "    print(\"hello\")"
   ]
  },
  {
   "cell_type": "code",
   "execution_count": 44,
   "id": "5362a3bf",
   "metadata": {},
   "outputs": [
    {
     "data": {
      "text/plain": [
       "'afseghfyusegu'"
      ]
     },
     "execution_count": 44,
     "metadata": {},
     "output_type": "execute_result"
    }
   ],
   "source": [
    "a = \"afseghfyusegu\"\n",
    "a\n"
   ]
  },
  {
   "cell_type": "code",
   "execution_count": 45,
   "id": "95eebb52",
   "metadata": {},
   "outputs": [
    {
     "data": {
      "text/plain": [
       "'hsfjhsyfgyg'"
      ]
     },
     "execution_count": 45,
     "metadata": {},
     "output_type": "execute_result"
    }
   ],
   "source": [
    "b  = 'hsfjhsyfgyg'\n",
    "b"
   ]
  },
  {
   "cell_type": "code",
   "execution_count": 49,
   "id": "2ba133dd",
   "metadata": {},
   "outputs": [
    {
     "name": "stdout",
     "output_type": "stream",
     "text": [
      "I'm fyn\n",
      "I'm fyn\n"
     ]
    }
   ],
   "source": [
    "print(\"I'm fyn\")\n",
    "print('I\\'m fyn')"
   ]
  },
  {
   "cell_type": "code",
   "execution_count": 62,
   "id": "0e0ae281",
   "metadata": {},
   "outputs": [
    {
     "data": {
      "text/plain": [
       "['elppa', 'iH', 'nohtyP', 'kP']"
      ]
     },
     "execution_count": 62,
     "metadata": {},
     "output_type": "execute_result"
    }
   ],
   "source": [
    "a = [\"apple\",\"Hi\",\"Python\",\"Pk\"]\n",
    "b = \"$\".join([i[::-1] for i in a]).split(\"$\")\n",
    "[i[::-1] for i in b]\n",
    "b"
   ]
  },
  {
   "cell_type": "code",
   "execution_count": 54,
   "id": "af349ec4",
   "metadata": {},
   "outputs": [
    {
     "name": "stdout",
     "output_type": "stream",
     "text": [
      "elppa\n",
      "iH\n",
      "nohtyP\n",
      "kP\n"
     ]
    }
   ],
   "source": [
    "for i in a:\n",
    "    print(i[::-1])"
   ]
  },
  {
   "cell_type": "code",
   "execution_count": 86,
   "id": "c1a8cb00",
   "metadata": {},
   "outputs": [
    {
     "name": "stdout",
     "output_type": "stream",
     "text": [
      "https://quotes.toscrape.com/page/1\n",
      "<Response [200]>\n",
      "https://quotes.toscrape.com/page/2\n",
      "<Response [200]>\n",
      "https://quotes.toscrape.com/page/3\n",
      "<Response [200]>\n",
      "https://quotes.toscrape.com/page/4\n",
      "<Response [200]>\n",
      "https://quotes.toscrape.com/page/5\n",
      "<Response [200]>\n",
      "https://quotes.toscrape.com/page/6\n",
      "<Response [200]>\n",
      "https://quotes.toscrape.com/page/7\n",
      "<Response [200]>\n",
      "https://quotes.toscrape.com/page/8\n",
      "<Response [200]>\n",
      "https://quotes.toscrape.com/page/9\n",
      "<Response [200]>\n",
      "https://quotes.toscrape.com/page/10\n",
      "<Response [200]>\n"
     ]
    }
   ],
   "source": [
    "# import pandas as pd\n",
    "# df = pd.read_html(\"https://quotes.toscrape.com/\")\n",
    "# df\n",
    "quo = []\n",
    "aut = []\n",
    "import requests\n",
    "from bs4 import BeautifulSoup\n",
    "for pk in range(1,11):\n",
    "    url = f\"https://quotes.toscrape.com/page/{pk}\"\n",
    "    req = requests.get(url)\n",
    "    print(url)\n",
    "    print(req)\n",
    "    # print(req.content)\n",
    "    soup = BeautifulSoup(req.content,\"html.parser\")\n",
    "    # print(soup.prettify())\n",
    "    qu = soup.findAll(\"span\",{'class':\"text\"})\n",
    "    au = soup.findAll(\"small\",{'class':\"author\"})\n",
    "    for i in qu:\n",
    "        quo.append(i.text)\n",
    "    for j in au:\n",
    "        aut.append(j.text)"
   ]
  },
  {
   "cell_type": "code",
   "execution_count": 91,
   "id": "fd975fc3",
   "metadata": {},
   "outputs": [],
   "source": [
    "df = pd.DataFrame([quo,aut]).T\n",
    "df.columns = [\"Quote\",\"Author\"]\n",
    "df.to_csv(\"abcd.csv\",index = False)"
   ]
  },
  {
   "cell_type": "code",
   "execution_count": 92,
   "id": "46bbe971",
   "metadata": {},
   "outputs": [
    {
     "data": {
      "text/plain": [
       "'C:\\\\Users\\\\KIRAN\\\\Desktop\\\\Learning\\\\Dashboard\\\\MLAlgos\\\\YouTube_Web_Scraping'"
      ]
     },
     "execution_count": 92,
     "metadata": {},
     "output_type": "execute_result"
    }
   ],
   "source": [
    "pwd"
   ]
  },
  {
   "cell_type": "code",
   "execution_count": 93,
   "id": "792ebed0",
   "metadata": {},
   "outputs": [],
   "source": [
    "from sklearn.model_selection import train_test_split\n",
    "# train_test_split??"
   ]
  },
  {
   "cell_type": "code",
   "execution_count": 94,
   "id": "49890bc1",
   "metadata": {},
   "outputs": [
    {
     "data": {
      "text/plain": [
       "['apple', 'Hi', 'Python', 'Pk']"
      ]
     },
     "execution_count": 94,
     "metadata": {},
     "output_type": "execute_result"
    }
   ],
   "source": [
    "a"
   ]
  },
  {
   "cell_type": "code",
   "execution_count": 95,
   "id": "1b9fb79b",
   "metadata": {},
   "outputs": [
    {
     "data": {
      "text/plain": [
       "['elppa', 'iH', 'nohtyP', 'kP']"
      ]
     },
     "execution_count": 95,
     "metadata": {},
     "output_type": "execute_result"
    }
   ],
   "source": [
    "b"
   ]
  },
  {
   "cell_type": "code",
   "execution_count": 97,
   "id": "e3cb88e2",
   "metadata": {},
   "outputs": [
    {
     "data": {
      "text/plain": [
       "[('apple', 'elppa'), ('Hi', 'iH'), ('Python', 'nohtyP'), ('Pk', 'kP')]"
      ]
     },
     "execution_count": 97,
     "metadata": {},
     "output_type": "execute_result"
    }
   ],
   "source": [
    "list(zip(a,b))"
   ]
  },
  {
   "cell_type": "markdown",
   "id": "940dd9d1",
   "metadata": {},
   "source": [
    "# <img src = \"https://cdn.pixabay.com/photo/2017/02/20/18/03/cat-2083492__340.jpg\"> "
   ]
  },
  {
   "cell_type": "markdown",
   "id": "12e26dd0",
   "metadata": {},
   "source": [
    "# list"
   ]
  },
  {
   "cell_type": "code",
   "execution_count": 32,
   "id": "71c1fa25",
   "metadata": {},
   "outputs": [
    {
     "data": {
      "text/plain": [
       "[1, 99.6, (8+7j), 'python']"
      ]
     },
     "execution_count": 32,
     "metadata": {},
     "output_type": "execute_result"
    }
   ],
   "source": [
    "a = [1,99.6,8+7j,\"python\"]\n",
    "a"
   ]
  },
  {
   "cell_type": "code",
   "execution_count": 33,
   "id": "8098fe7e",
   "metadata": {},
   "outputs": [],
   "source": [
    "b = list([1,99.6,8+7j,\"python\"])"
   ]
  },
  {
   "cell_type": "code",
   "execution_count": 34,
   "id": "457efe2d",
   "metadata": {},
   "outputs": [
    {
     "data": {
      "text/plain": [
       "[1, 99.6, (8+7j), 'python']"
      ]
     },
     "execution_count": 34,
     "metadata": {},
     "output_type": "execute_result"
    }
   ],
   "source": [
    "b"
   ]
  },
  {
   "cell_type": "code",
   "execution_count": 35,
   "id": "3e676542",
   "metadata": {},
   "outputs": [
    {
     "data": {
      "text/plain": [
       "[1, 99.6, (8+7j), 'python']"
      ]
     },
     "execution_count": 35,
     "metadata": {},
     "output_type": "execute_result"
    }
   ],
   "source": [
    "c = a\n",
    "c"
   ]
  },
  {
   "cell_type": "code",
   "execution_count": 36,
   "id": "84a413e3",
   "metadata": {},
   "outputs": [
    {
     "data": {
      "text/plain": [
       "['C++', 99.6, (8+7j), 'python']"
      ]
     },
     "execution_count": 36,
     "metadata": {},
     "output_type": "execute_result"
    }
   ],
   "source": [
    "c[0] = \"C++\"\n",
    "c"
   ]
  },
  {
   "cell_type": "code",
   "execution_count": 37,
   "id": "30f3fffa",
   "metadata": {},
   "outputs": [
    {
     "data": {
      "text/plain": [
       "['C++', 99.6, (8+7j), 'python']"
      ]
     },
     "execution_count": 37,
     "metadata": {},
     "output_type": "execute_result"
    }
   ],
   "source": [
    "a"
   ]
  },
  {
   "cell_type": "code",
   "execution_count": 38,
   "id": "f552f6b4",
   "metadata": {},
   "outputs": [],
   "source": [
    "d = a.copy()"
   ]
  },
  {
   "cell_type": "code",
   "execution_count": 39,
   "id": "2d361d44",
   "metadata": {},
   "outputs": [
    {
     "data": {
      "text/plain": [
       "['C++', 99.6, (8+7j), 'python']"
      ]
     },
     "execution_count": 39,
     "metadata": {},
     "output_type": "execute_result"
    }
   ],
   "source": [
    "a"
   ]
  },
  {
   "cell_type": "code",
   "execution_count": 40,
   "id": "d228b86e",
   "metadata": {},
   "outputs": [],
   "source": [
    "d[0] = \"Java\""
   ]
  },
  {
   "cell_type": "code",
   "execution_count": 41,
   "id": "e812d549",
   "metadata": {},
   "outputs": [
    {
     "data": {
      "text/plain": [
       "['Java', 99.6, (8+7j), 'python']"
      ]
     },
     "execution_count": 41,
     "metadata": {},
     "output_type": "execute_result"
    }
   ],
   "source": [
    "d"
   ]
  },
  {
   "cell_type": "code",
   "execution_count": 42,
   "id": "da272cd6",
   "metadata": {},
   "outputs": [
    {
     "data": {
      "text/plain": [
       "['C++', 99.6, (8+7j), 'python']"
      ]
     },
     "execution_count": 42,
     "metadata": {},
     "output_type": "execute_result"
    }
   ],
   "source": [
    "a"
   ]
  },
  {
   "cell_type": "code",
   "execution_count": 43,
   "id": "2db06a98",
   "metadata": {},
   "outputs": [],
   "source": [
    "a.append(99)"
   ]
  },
  {
   "cell_type": "code",
   "execution_count": 44,
   "id": "29080d64",
   "metadata": {},
   "outputs": [
    {
     "data": {
      "text/plain": [
       "['C++', 99.6, (8+7j), 'python', 99]"
      ]
     },
     "execution_count": 44,
     "metadata": {},
     "output_type": "execute_result"
    }
   ],
   "source": [
    "a"
   ]
  },
  {
   "cell_type": "code",
   "execution_count": 45,
   "id": "55c09814",
   "metadata": {},
   "outputs": [
    {
     "data": {
      "text/plain": [
       "['C++', 99.6, (8+7j), 'python', 99, ['phani', 'julia', 'hari', 7987]]"
      ]
     },
     "execution_count": 45,
     "metadata": {},
     "output_type": "execute_result"
    }
   ],
   "source": [
    "a.append([\"phani\",\"julia\",\"hari\",7987])\n",
    "a"
   ]
  },
  {
   "cell_type": "code",
   "execution_count": 56,
   "id": "d17f5bdc",
   "metadata": {},
   "outputs": [
    {
     "data": {
      "text/plain": [
       "['Golang', 99.6, (8+7j), 'python', 99, ['phani', 'julia', 'hari', 7987]]"
      ]
     },
     "execution_count": 56,
     "metadata": {},
     "output_type": "execute_result"
    }
   ],
   "source": [
    "b = a.copy()\n",
    "b[0] = \"Golang\"\n",
    "b"
   ]
  },
  {
   "cell_type": "code",
   "execution_count": 57,
   "id": "d41e4277",
   "metadata": {},
   "outputs": [
    {
     "data": {
      "text/plain": [
       "['C++', 99.6, (8+7j), 'python', 99, ['phani', 'julia', 'hari', 7987]]"
      ]
     },
     "execution_count": 57,
     "metadata": {},
     "output_type": "execute_result"
    }
   ],
   "source": [
    "a"
   ]
  },
  {
   "cell_type": "code",
   "execution_count": 60,
   "id": "1978559c",
   "metadata": {},
   "outputs": [],
   "source": [
    "b[-1][-1] = int(str(b[-1][-1])[::-1])"
   ]
  },
  {
   "cell_type": "code",
   "execution_count": 61,
   "id": "d2cc5450",
   "metadata": {},
   "outputs": [
    {
     "data": {
      "text/plain": [
       "['Golang', 99.6, (8+7j), 'python', 99, ['phani', 'julia', 'hari', 7897]]"
      ]
     },
     "execution_count": 61,
     "metadata": {},
     "output_type": "execute_result"
    }
   ],
   "source": [
    "b"
   ]
  },
  {
   "cell_type": "code",
   "execution_count": 62,
   "id": "bf30340b",
   "metadata": {},
   "outputs": [
    {
     "data": {
      "text/plain": [
       "['C++', 99.6, (8+7j), 'python', 99, ['phani', 'julia', 'hari', 7897]]"
      ]
     },
     "execution_count": 62,
     "metadata": {},
     "output_type": "execute_result"
    }
   ],
   "source": [
    "a"
   ]
  },
  {
   "cell_type": "code",
   "execution_count": 63,
   "id": "2bf318b2",
   "metadata": {},
   "outputs": [
    {
     "data": {
      "text/plain": [
       "['C++', 99.6, (8+7j), 'python', 99, ['phani', 'julia', 'hari', 7897]]"
      ]
     },
     "execution_count": 63,
     "metadata": {},
     "output_type": "execute_result"
    }
   ],
   "source": [
    "import copy\n",
    "a"
   ]
  },
  {
   "cell_type": "code",
   "execution_count": 64,
   "id": "ac01b3cf",
   "metadata": {},
   "outputs": [
    {
     "data": {
      "text/plain": [
       "['C++', 99.6, (8+7j), 'python', 99, ['phani', 'julia', 'hari', 7897]]"
      ]
     },
     "execution_count": 64,
     "metadata": {},
     "output_type": "execute_result"
    }
   ],
   "source": [
    "b = copy.deepcopy(a)\n",
    "b"
   ]
  },
  {
   "cell_type": "code",
   "execution_count": 66,
   "id": "fbf6469c",
   "metadata": {},
   "outputs": [
    {
     "data": {
      "text/plain": [
       "['C++', 99.6, (8+7j), 'python', 99, ['phani', 'julia', 'hari', 'ML']]"
      ]
     },
     "execution_count": 66,
     "metadata": {},
     "output_type": "execute_result"
    }
   ],
   "source": [
    "b[-1][-1] = \"ML\"\n",
    "b"
   ]
  },
  {
   "cell_type": "code",
   "execution_count": 67,
   "id": "7eed9df6",
   "metadata": {},
   "outputs": [
    {
     "data": {
      "text/plain": [
       "['C++', 99.6, (8+7j), 'python', 99, ['phani', 'julia', 'hari', 7897]]"
      ]
     },
     "execution_count": 67,
     "metadata": {},
     "output_type": "execute_result"
    }
   ],
   "source": [
    "a"
   ]
  },
  {
   "cell_type": "code",
   "execution_count": 68,
   "id": "3f754b8f",
   "metadata": {},
   "outputs": [
    {
     "data": {
      "text/plain": [
       "['C++',\n",
       " 99.6,\n",
       " (8+7j),\n",
       " 'python',\n",
       " 99,\n",
       " ['phani', 'julia', 'hari', 7897],\n",
       " 'helloworld']"
      ]
     },
     "execution_count": 68,
     "metadata": {},
     "output_type": "execute_result"
    }
   ],
   "source": [
    "a.append((\"helloworld\"))\n",
    "a"
   ]
  },
  {
   "cell_type": "code",
   "execution_count": 78,
   "id": "d1b9350d",
   "metadata": {},
   "outputs": [
    {
     "name": "stdout",
     "output_type": "stream",
     "text": [
      "['C++', 99.6, (8+7j), 'python', 99, ['phani', 'julia', 'hari', 7897], 'helloworld', (1, 4, 8, 9)]\n"
     ]
    }
   ],
   "source": [
    "print(a)"
   ]
  },
  {
   "cell_type": "code",
   "execution_count": 70,
   "id": "d6503069",
   "metadata": {},
   "outputs": [
    {
     "name": "stdout",
     "output_type": "stream",
     "text": [
      "['C++', 99.6, (8+7j), 'python', 99, ['phani', 'julia', 'hari', 7897], 'helloworld', (1, 4, 8, 9)]\n"
     ]
    }
   ],
   "source": [
    "a.append((1,4,8,9))\n",
    "print(a)"
   ]
  },
  {
   "cell_type": "code",
   "execution_count": 99,
   "id": "b90ba4cf",
   "metadata": {},
   "outputs": [
    {
     "name": "stdout",
     "output_type": "stream",
     "text": [
      "['C++', 99.6, (8+7j), 'python', 99, 'phani', 'julia', 'hari', 7897, 'helloworld', 1, 4, 8, 9]\n"
     ]
    }
   ],
   "source": [
    "data = []\n",
    "for i in a:\n",
    "    if type(i) == list or type(i) == tuple:\n",
    "        for j in i:\n",
    "            data.append(j)\n",
    "    else:\n",
    "        data.append(i)\n",
    "print(data)"
   ]
  },
  {
   "cell_type": "code",
   "execution_count": 100,
   "id": "c1164c15",
   "metadata": {},
   "outputs": [],
   "source": [
    "data.append([\"python\",\"julia\",9,4])"
   ]
  },
  {
   "cell_type": "code",
   "execution_count": 102,
   "id": "e9e989db",
   "metadata": {},
   "outputs": [
    {
     "name": "stdout",
     "output_type": "stream",
     "text": [
      "['C++', 99.6, (8+7j), 'python', 99, 'phani', 'julia', 'hari', 7897, 'helloworld', 1, 4, 8, 9, ['python', 'julia', 9, 4]]\n"
     ]
    }
   ],
   "source": [
    "print(data)\n",
    "a = data.copy()"
   ]
  },
  {
   "cell_type": "code",
   "execution_count": 103,
   "id": "bee04883",
   "metadata": {},
   "outputs": [
    {
     "name": "stdout",
     "output_type": "stream",
     "text": [
      "['C++', 99.6, (8+7j), 'python', 99, 'phani', 'julia', 'hari', 7897, 'helloworld', 1, 4, 8, 9, 'python', 'julia', 9, 4]\n"
     ]
    }
   ],
   "source": [
    "data = []\n",
    "for i in a:\n",
    "    if type(i) == list or type(i) == tuple:\n",
    "        for j in i:\n",
    "            data.append(j)\n",
    "    else:\n",
    "        data.append(i)\n",
    "print(data)"
   ]
  },
  {
   "cell_type": "code",
   "execution_count": 86,
   "id": "db887143",
   "metadata": {},
   "outputs": [],
   "source": [
    "s = []\n",
    "n = []\n",
    "for i,j in enumerate(data):\n",
    "    if i<=6:\n",
    "        s.append(j)\n",
    "    else:\n",
    "        n.append(j)"
   ]
  },
  {
   "cell_type": "code",
   "execution_count": 108,
   "id": "c8d91c44",
   "metadata": {},
   "outputs": [
    {
     "name": "stdout",
     "output_type": "stream",
     "text": [
      "['C++', 99.6, (8+7j), 'python', 99, 'phani', 'julia', 'hari', 7897, 'helloworld', 1, 4, 8, 9, 'python', 'julia', 9, 4]\n"
     ]
    }
   ],
   "source": [
    "print(data)"
   ]
  },
  {
   "cell_type": "code",
   "execution_count": 109,
   "id": "9421bd04",
   "metadata": {},
   "outputs": [
    {
     "name": "stdout",
     "output_type": "stream",
     "text": [
      "python is at list ['C++', 'python', 'phani', 'julia', 'hari', 'helloworld']\n",
      "julia is at list ['C++', 'python', 'phani', 'julia', 'hari', 'helloworld']\n",
      "9 is at list [99.6, (8+7j), 99, 7897, 1, 4, 8, 9]\n",
      "4 is at list [99.6, (8+7j), 99, 7897, 1, 4, 8, 9]\n"
     ]
    }
   ],
   "source": [
    "s = []\n",
    "n = []\n",
    "for i,j in enumerate(data):\n",
    "    if type(j) == str:\n",
    "        if j in s:\n",
    "            print(f\"{j} is at list {s}\")\n",
    "            continue \n",
    "        s.append(j)\n",
    "    else:\n",
    "        if j in n:\n",
    "            print(f\"{j} is at list {n}\")\n",
    "            continue \n",
    "        n.append(j)\n",
    "#     if i<=6:\n",
    "#         s.append(j)\n",
    "#     else:\n",
    "#         n.append(j)"
   ]
  },
  {
   "cell_type": "code",
   "execution_count": 110,
   "id": "f925f36b",
   "metadata": {},
   "outputs": [
    {
     "data": {
      "text/plain": [
       "(['C++', 'python', 'phani', 'julia', 'hari', 'helloworld'],\n",
       " [99.6, (8+7j), 99, 7897, 1, 4, 8, 9])"
      ]
     },
     "execution_count": 110,
     "metadata": {},
     "output_type": "execute_result"
    }
   ],
   "source": [
    "s,n"
   ]
  },
  {
   "cell_type": "code",
   "execution_count": 106,
   "id": "41d2d54c",
   "metadata": {},
   "outputs": [
    {
     "data": {
      "text/plain": [
       "True"
      ]
     },
     "execution_count": 106,
     "metadata": {},
     "output_type": "execute_result"
    }
   ],
   "source": [
    "\"b\" in list(\"abcd\")"
   ]
  },
  {
   "cell_type": "code",
   "execution_count": null,
   "id": "61e38c1d",
   "metadata": {},
   "outputs": [],
   "source": []
  }
 ],
 "metadata": {
  "kernelspec": {
   "display_name": "Python 3 (ipykernel)",
   "language": "python",
   "name": "python3"
  },
  "language_info": {
   "codemirror_mode": {
    "name": "ipython",
    "version": 3
   },
   "file_extension": ".py",
   "mimetype": "text/x-python",
   "name": "python",
   "nbconvert_exporter": "python",
   "pygments_lexer": "ipython3",
   "version": "3.7.4"
  }
 },
 "nbformat": 4,
 "nbformat_minor": 5
}
