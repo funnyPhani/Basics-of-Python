{
 "cells": [
  {
   "cell_type": "markdown",
   "id": "2eda9412",
   "metadata": {},
   "source": [
    "# <a href = \"https://pythontutor.com/\">PythonTutor</a>"
   ]
  },
  {
   "cell_type": "markdown",
   "id": "aeaef4fd",
   "metadata": {},
   "source": [
    "# Python"
   ]
  },
  {
   "cell_type": "markdown",
   "id": "bd67cd63",
   "metadata": {},
   "source": [
    "# Python"
   ]
  },
  {
   "cell_type": "markdown",
   "id": "3416340c",
   "metadata": {},
   "source": [
    "## Python"
   ]
  },
  {
   "cell_type": "markdown",
   "id": "2db99e39",
   "metadata": {},
   "source": [
    "# Python\n",
    "* comments\n",
    "* variables\n",
    "* datatypes\n",
    "* conditional stmts\n"
   ]
  },
  {
   "cell_type": "markdown",
   "id": "97287559",
   "metadata": {},
   "source": [
    "# Comments in Python\n",
    "* single line cmt\n",
    "* multi line cmnt\n",
    "* docstring/triple quote"
   ]
  },
  {
   "cell_type": "code",
   "execution_count": 2,
   "id": "3a3b77d2",
   "metadata": {},
   "outputs": [],
   "source": [
    "# a = 10\n",
    "# this is a var\n",
    "\n",
    "# multiline commnet -- > cntrl+?\n",
    "# vsdfkjjfrhn\n",
    "# hifhgvihf\n",
    "# ghjuhfhbgf\n",
    "# hjuhrhgb"
   ]
  },
  {
   "cell_type": "code",
   "execution_count": 3,
   "id": "c319e023",
   "metadata": {},
   "outputs": [
    {
     "name": "stdout",
     "output_type": "stream",
     "text": [
      "5\n"
     ]
    }
   ],
   "source": [
    "'''\n",
    "\n",
    "\n",
    "cfgsdgfsde\n",
    "sdfvnbsjdhfvb\n",
    "fhvejsdhhs\n",
    "fbhjhrdb\n",
    "hghfyh              fhgfeurigh\n",
    "\n",
    "'''\n",
    "a = 5\n",
    "print(a)"
   ]
  },
  {
   "cell_type": "code",
   "execution_count": 5,
   "id": "fa672345",
   "metadata": {},
   "outputs": [
    {
     "name": "stdout",
     "output_type": "stream",
     "text": [
      "10\n",
      "<class 'int'>\n"
     ]
    }
   ],
   "source": [
    "# Variables\n",
    "\n",
    "a = 10\n",
    "print(a)\n",
    "print(type(a))"
   ]
  },
  {
   "cell_type": "code",
   "execution_count": 6,
   "id": "435ffeeb",
   "metadata": {},
   "outputs": [
    {
     "data": {
      "text/plain": [
       "float"
      ]
     },
     "execution_count": 6,
     "metadata": {},
     "output_type": "execute_result"
    }
   ],
   "source": [
    "b = 25.5\n",
    "type(b)"
   ]
  },
  {
   "cell_type": "markdown",
   "id": "e1e316fd",
   "metadata": {},
   "source": [
    "# rules defining for variables\n",
    "* should not use numerical infornt of var\n",
    "* should not use keywords as var names\n",
    "* datatypes ni var names ga vadachu"
   ]
  },
  {
   "cell_type": "code",
   "execution_count": 7,
   "id": "1d21a98d",
   "metadata": {},
   "outputs": [],
   "source": [
    "a = 10"
   ]
  },
  {
   "cell_type": "code",
   "execution_count": 8,
   "id": "3bcc0244",
   "metadata": {},
   "outputs": [
    {
     "name": "stdout",
     "output_type": "stream",
     "text": [
      "10\n"
     ]
    }
   ],
   "source": [
    "a1 = 10\n",
    "print(a)"
   ]
  },
  {
   "cell_type": "code",
   "execution_count": 9,
   "id": "b11509be",
   "metadata": {},
   "outputs": [
    {
     "ename": "SyntaxError",
     "evalue": "invalid syntax (3260425072.py, line 1)",
     "output_type": "error",
     "traceback": [
      "\u001b[1;36m  File \u001b[1;32m\"C:\\Users\\KIRAN\\AppData\\Local\\Temp\\ipykernel_5876\\3260425072.py\"\u001b[1;36m, line \u001b[1;32m1\u001b[0m\n\u001b[1;33m    1a = 10\u001b[0m\n\u001b[1;37m     ^\u001b[0m\n\u001b[1;31mSyntaxError\u001b[0m\u001b[1;31m:\u001b[0m invalid syntax\n"
     ]
    }
   ],
   "source": [
    "1a = 10\n",
    "print(1a)"
   ]
  },
  {
   "cell_type": "code",
   "execution_count": 10,
   "id": "652f3e58",
   "metadata": {},
   "outputs": [
    {
     "name": "stdout",
     "output_type": "stream",
     "text": [
      "25\n"
     ]
    }
   ],
   "source": [
    "pk = 25\n",
    "print(pk)"
   ]
  },
  {
   "cell_type": "code",
   "execution_count": 11,
   "id": "b26e6fad",
   "metadata": {},
   "outputs": [
    {
     "ename": "SyntaxError",
     "evalue": "invalid syntax (742528728.py, line 1)",
     "output_type": "error",
     "traceback": [
      "\u001b[1;36m  File \u001b[1;32m\"C:\\Users\\KIRAN\\AppData\\Local\\Temp\\ipykernel_5876\\742528728.py\"\u001b[1;36m, line \u001b[1;32m1\u001b[0m\n\u001b[1;33m    for = 85\u001b[0m\n\u001b[1;37m        ^\u001b[0m\n\u001b[1;31mSyntaxError\u001b[0m\u001b[1;31m:\u001b[0m invalid syntax\n"
     ]
    }
   ],
   "source": [
    "for = 85\n",
    "print(for)"
   ]
  },
  {
   "cell_type": "code",
   "execution_count": 19,
   "id": "4c25d71e",
   "metadata": {},
   "outputs": [
    {
     "name": "stdout",
     "output_type": "stream",
     "text": [
      "['False', 'None', 'True', 'and', 'as', 'assert', 'async', 'await', 'break', 'class', 'continue', 'def', 'del', 'elif', 'else', 'except', 'finally', 'for', 'from', 'global', 'if', 'import', 'in', 'is', 'lambda', 'nonlocal', 'not', 'or', 'pass', 'raise', 'return', 'try', 'while', 'with', 'yield']\n"
     ]
    }
   ],
   "source": [
    "import keyword\n",
    "print(keyword.kwlist)"
   ]
  },
  {
   "cell_type": "code",
   "execution_count": 20,
   "id": "3b89ed38",
   "metadata": {},
   "outputs": [
    {
     "name": "stdout",
     "output_type": "stream",
     "text": [
      "45\n"
     ]
    }
   ],
   "source": [
    "int = 45\n",
    "print(int)"
   ]
  },
  {
   "cell_type": "code",
   "execution_count": 21,
   "id": "6e5a0434",
   "metadata": {},
   "outputs": [
    {
     "name": "stdout",
     "output_type": "stream",
     "text": [
      "45\n"
     ]
    }
   ],
   "source": [
    "str = 45\n",
    "print(str)"
   ]
  },
  {
   "cell_type": "code",
   "execution_count": 22,
   "id": "b4f8ffe0",
   "metadata": {},
   "outputs": [
    {
     "name": "stdout",
     "output_type": "stream",
     "text": [
      "45\n"
     ]
    }
   ],
   "source": [
    "# _ = 45  # dummay variable\n",
    "print(_)"
   ]
  },
  {
   "cell_type": "code",
   "execution_count": 23,
   "id": "ded9309f",
   "metadata": {},
   "outputs": [
    {
     "ename": "SyntaxError",
     "evalue": "invalid syntax (3126236108.py, line 1)",
     "output_type": "error",
     "traceback": [
      "\u001b[1;36m  File \u001b[1;32m\"C:\\Users\\KIRAN\\AppData\\Local\\Temp\\ipykernel_5876\\3126236108.py\"\u001b[1;36m, line \u001b[1;32m1\u001b[0m\n\u001b[1;33m    @ = 25\u001b[0m\n\u001b[1;37m      ^\u001b[0m\n\u001b[1;31mSyntaxError\u001b[0m\u001b[1;31m:\u001b[0m invalid syntax\n"
     ]
    }
   ],
   "source": [
    "@ = 25\n",
    "print(@)"
   ]
  },
  {
   "cell_type": "code",
   "execution_count": 24,
   "id": "7b6a7d37",
   "metadata": {},
   "outputs": [
    {
     "name": "stdout",
     "output_type": "stream",
     "text": [
      "15\n"
     ]
    }
   ],
   "source": [
    "_1a = 15\n",
    "print(_1a)"
   ]
  },
  {
   "cell_type": "code",
   "execution_count": 25,
   "id": "cfddbfbf",
   "metadata": {},
   "outputs": [
    {
     "name": "stdout",
     "output_type": "stream",
     "text": [
      "1 2 3\n"
     ]
    }
   ],
   "source": [
    "a,b,c = 1,2,3\n",
    "print(a,b,c)"
   ]
  },
  {
   "cell_type": "code",
   "execution_count": 26,
   "id": "9988b4c3",
   "metadata": {},
   "outputs": [
    {
     "ename": "ValueError",
     "evalue": "not enough values to unpack (expected 4, got 3)",
     "output_type": "error",
     "traceback": [
      "\u001b[1;31m---------------------------------------------------------------------------\u001b[0m",
      "\u001b[1;31mValueError\u001b[0m                                Traceback (most recent call last)",
      "\u001b[1;32m~\\AppData\\Local\\Temp\\ipykernel_5876\\2181184404.py\u001b[0m in \u001b[0;36m<module>\u001b[1;34m\u001b[0m\n\u001b[1;32m----> 1\u001b[1;33m \u001b[0ma\u001b[0m\u001b[1;33m,\u001b[0m\u001b[0mb\u001b[0m\u001b[1;33m,\u001b[0m\u001b[0mc\u001b[0m\u001b[1;33m,\u001b[0m\u001b[0md\u001b[0m \u001b[1;33m=\u001b[0m \u001b[1;36m1\u001b[0m\u001b[1;33m,\u001b[0m\u001b[1;36m2\u001b[0m\u001b[1;33m,\u001b[0m\u001b[1;36m3\u001b[0m\u001b[1;33m\u001b[0m\u001b[1;33m\u001b[0m\u001b[0m\n\u001b[0m\u001b[0;32m      2\u001b[0m \u001b[0mprint\u001b[0m\u001b[1;33m(\u001b[0m\u001b[0ma\u001b[0m\u001b[1;33m,\u001b[0m\u001b[0mb\u001b[0m\u001b[1;33m,\u001b[0m\u001b[0mc\u001b[0m\u001b[1;33m,\u001b[0m\u001b[0md\u001b[0m\u001b[1;33m)\u001b[0m\u001b[1;33m\u001b[0m\u001b[1;33m\u001b[0m\u001b[0m\n",
      "\u001b[1;31mValueError\u001b[0m: not enough values to unpack (expected 4, got 3)"
     ]
    }
   ],
   "source": [
    "a,b,c,d = 1,2,3\n",
    "print(a,b,c,d)"
   ]
  },
  {
   "cell_type": "code",
   "execution_count": 27,
   "id": "39551dd6",
   "metadata": {},
   "outputs": [
    {
     "name": "stdout",
     "output_type": "stream",
     "text": [
      "10\n"
     ]
    }
   ],
   "source": [
    "a = 5\n",
    "a = 10\n",
    "print(a)"
   ]
  },
  {
   "cell_type": "code",
   "execution_count": 28,
   "id": "08335ca2",
   "metadata": {},
   "outputs": [
    {
     "name": "stdout",
     "output_type": "stream",
     "text": [
      "1 2 3 5\n"
     ]
    }
   ],
   "source": [
    "a,b,c,d,d = 1,2,3,4,5\n",
    "print(a,b,c,d)"
   ]
  },
  {
   "cell_type": "code",
   "execution_count": 29,
   "id": "5982b5bc",
   "metadata": {},
   "outputs": [
    {
     "name": "stdout",
     "output_type": "stream",
     "text": [
      "1 2 3 5\n"
     ]
    }
   ],
   "source": [
    "a,b,c,_,_ = 1,2,3,4,5\n",
    "print(a,b,c,_)"
   ]
  },
  {
   "cell_type": "code",
   "execution_count": 30,
   "id": "661f35ed",
   "metadata": {},
   "outputs": [
    {
     "name": "stdout",
     "output_type": "stream",
     "text": [
      "1 pyhton 22.5\n"
     ]
    }
   ],
   "source": [
    "a,b,c = 1,\"pyhton\",22.5\n",
    "print(a,b,c)"
   ]
  },
  {
   "cell_type": "code",
   "execution_count": 31,
   "id": "73237f52",
   "metadata": {},
   "outputs": [
    {
     "name": "stdout",
     "output_type": "stream",
     "text": [
      "(1, 2, 3, 'Python', 5.66)\n"
     ]
    }
   ],
   "source": [
    "a = b = c = 1,2,3,\"Python\",5.66 # multi assignment\n",
    "print(a)"
   ]
  },
  {
   "cell_type": "code",
   "execution_count": 32,
   "id": "04bbe2dc",
   "metadata": {},
   "outputs": [
    {
     "name": "stdout",
     "output_type": "stream",
     "text": [
      "(1, 2, 3, 'Python', 5.66)\n"
     ]
    }
   ],
   "source": [
    "print(b)"
   ]
  },
  {
   "cell_type": "code",
   "execution_count": 33,
   "id": "af9d88b8",
   "metadata": {},
   "outputs": [
    {
     "name": "stdout",
     "output_type": "stream",
     "text": [
      "(1, 2, 3, 'Python', 5.66)\n"
     ]
    }
   ],
   "source": [
    "print(c)"
   ]
  },
  {
   "cell_type": "code",
   "execution_count": 34,
   "id": "ac4d4c1c",
   "metadata": {},
   "outputs": [
    {
     "name": "stdout",
     "output_type": "stream",
     "text": [
      "32.5\n"
     ]
    }
   ],
   "source": [
    "# type casting or type conversion \n",
    "# 1. implict\n",
    "# 2. explict\n",
    "a = 10\n",
    "b = 22.5\n",
    "c = a+b\n",
    "print(c)"
   ]
  },
  {
   "cell_type": "code",
   "execution_count": 4,
   "id": "255f719b",
   "metadata": {},
   "outputs": [
    {
     "name": "stdout",
     "output_type": "stream",
     "text": [
      "<class 'str'>\n",
      "5Java\n"
     ]
    }
   ],
   "source": [
    "a = str(5) # explict\n",
    "print(type(a))\n",
    "b = \"Java\"\n",
    "print(a+b)"
   ]
  },
  {
   "cell_type": "code",
   "execution_count": 6,
   "id": "a0d79253",
   "metadata": {},
   "outputs": [
    {
     "name": "stdout",
     "output_type": "stream",
     "text": [
      "enter a num :45\n",
      "<class 'int'> 45\n"
     ]
    }
   ],
   "source": [
    "a = int(input(\"enter a num :\"))\n",
    "print(type(a),a)"
   ]
  },
  {
   "cell_type": "markdown",
   "id": "727e71aa",
   "metadata": {},
   "source": [
    "# Conditioal stmts\n",
    "1. if\n",
    "2. else\n",
    "3. elif\n",
    "4. nested conditions"
   ]
  },
  {
   "cell_type": "code",
   "execution_count": 13,
   "id": "86d2ace6",
   "metadata": {},
   "outputs": [
    {
     "name": "stdout",
     "output_type": "stream",
     "text": [
      "Hi ur name is Phani and ur sub is  Python\n",
      "Hi ur name is,Phani, and ur sub is Python\n",
      "Hi ur name is,Python, and ur sub is Phani\n",
      "Hi ur name is,Phani, and ur sub is Python\n"
     ]
    }
   ],
   "source": [
    "name = \"Phani\"\n",
    "sub = \"Python\"\n",
    "\n",
    "print(\"Hi ur name is\",name, \"and ur sub is \",sub)\n",
    "print(\"Hi ur name is,{}, and ur sub is {}\".format(name,sub))\n",
    "print(\"Hi ur name is,{1}, and ur sub is {0}\".format(name,sub))\n",
    "\n",
    "print(f\"Hi ur name is,{name}, and ur sub is {sub}\")\n"
   ]
  },
  {
   "cell_type": "code",
   "execution_count": 17,
   "id": "0c963900",
   "metadata": {},
   "outputs": [
    {
     "name": "stdout",
     "output_type": "stream",
     "text": [
      "-5\n",
      "-5 is odd\n"
     ]
    }
   ],
   "source": [
    "# if condition\n",
    "a = int(input())\n",
    "if a%2 == 0:\n",
    "    print(f\"{a} is even\")\n",
    "else:\n",
    "    print(f\"{a} is odd\")    "
   ]
  },
  {
   "cell_type": "code",
   "execution_count": 25,
   "id": "296fd0df",
   "metadata": {},
   "outputs": [
    {
     "name": "stdout",
     "output_type": "stream",
     "text": [
      "5\n",
      "5 is odd\n"
     ]
    }
   ],
   "source": [
    "# nested condition\n",
    "a = int(input())\n",
    "if a >0:\n",
    "    if a%2 == 0:\n",
    "        print(f\"{a} is even\")\n",
    "    else:\n",
    "        print(f\"{a} is odd\") \n",
    "else:\n",
    "    print(\"plz enter +ve num.\")"
   ]
  },
  {
   "cell_type": "code",
   "execution_count": 31,
   "id": "de66b3fc",
   "metadata": {},
   "outputs": [
    {
     "name": "stdout",
     "output_type": "stream",
     "text": [
      "-66\n",
      "plz enter +ve num.\n",
      "-4156\n",
      "plz enter +ve num.\n",
      "-454\n",
      "plz enter +ve num.\n",
      "45\n",
      "45 is odd\n"
     ]
    }
   ],
   "source": [
    "# if condition\n",
    "while True:\n",
    "    a = int(input())\n",
    "    if a >0:\n",
    "        if a%2 == 0:\n",
    "            print(f\"{a} is even\")\n",
    "            break\n",
    "        else:\n",
    "            print(f\"{a} is odd\")\n",
    "            break\n",
    "    else:\n",
    "        print(\"plz enter +ve num.\")"
   ]
  },
  {
   "cell_type": "code",
   "execution_count": 39,
   "id": "ed38085c",
   "metadata": {},
   "outputs": [
    {
     "name": "stdout",
     "output_type": "stream",
     "text": [
      "----------\n",
      "Iteration :1\n",
      "----------\n",
      "-5\n",
      "plz enter +ve num.\n",
      "----------\n",
      "Iteration :2\n",
      "----------\n",
      "-555\n",
      "plz enter +ve num.\n",
      "----------\n",
      "Iteration :3\n",
      "----------\n",
      "-33\n",
      "plz enter +ve num.\n",
      "----------\n",
      "Iteration :4\n",
      "----------\n",
      "45\n",
      "45 is odd\n"
     ]
    }
   ],
   "source": [
    "i = 0\n",
    "while True and i<=3:\n",
    "    i+=1\n",
    "    print(\"-\"*10)\n",
    "    print(f\"Iteration :{i}\")\n",
    "    print(\"-\"*10)\n",
    "\n",
    "    a = int(input())\n",
    "    if a >0:\n",
    "        if a%2 == 0:\n",
    "            print(f\"{a} is even\")\n",
    "            break\n",
    "        else:\n",
    "            print(f\"{a} is odd\")\n",
    "            break\n",
    "    else:\n",
    "        print(\"plz enter +ve num.\")\n",
    "else:\n",
    "    print(\"ur limit exceded.\")"
   ]
  },
  {
   "cell_type": "code",
   "execution_count": 37,
   "id": "e2d2e4d3",
   "metadata": {},
   "outputs": [
    {
     "name": "stdout",
     "output_type": "stream",
     "text": [
      "----------------------------------------------------------------------------------------------------------------------------------------------------------------------------------------------------------------------------------------------------------\n"
     ]
    }
   ],
   "source": [
    "print(\"-\"*250)"
   ]
  },
  {
   "cell_type": "code",
   "execution_count": 41,
   "id": "ab253238",
   "metadata": {},
   "outputs": [
    {
     "name": "stdout",
     "output_type": "stream",
     "text": [
      "hi\n",
      "hi\n"
     ]
    }
   ],
   "source": [
    "print(\"hi\")\n",
    "print('hi')"
   ]
  },
  {
   "cell_type": "code",
   "execution_count": 44,
   "id": "c9573647",
   "metadata": {},
   "outputs": [
    {
     "name": "stdout",
     "output_type": "stream",
     "text": [
      "I'm fine.\n",
      "I'm fine.\n"
     ]
    }
   ],
   "source": [
    "print(\"I'm fine.\")\n",
    "print('I\\'m fine.')"
   ]
  },
  {
   "cell_type": "code",
   "execution_count": 49,
   "id": "c327e051",
   "metadata": {},
   "outputs": [
    {
     "name": "stdout",
     "output_type": "stream",
     "text": [
      "512\n",
      "500-1000\n",
      "10000\n",
      ">1000...\n"
     ]
    }
   ],
   "source": [
    "# if elif\n",
    "while True:\n",
    "    a = int(input())\n",
    "    if a>0:\n",
    "        if a>0 and a<=100:\n",
    "            print(\"0-100\")\n",
    "        elif a>100 and a<=200:\n",
    "            print(\"100-200\")\n",
    "        elif a>500 and a<=1000:\n",
    "            print(\"500-1000\")\n",
    "        else:\n",
    "            print(\">1000...\")\n",
    "            break\n",
    "\n",
    "    else:\n",
    "        print(\"plz enter +ve num\")"
   ]
  },
  {
   "cell_type": "markdown",
   "id": "bf68e53a",
   "metadata": {},
   "source": [
    "# loops in Python\n",
    "\n",
    "* while\n",
    "* for\n",
    "* nested loops"
   ]
  },
  {
   "cell_type": "code",
   "execution_count": 53,
   "id": "b575bcd7",
   "metadata": {},
   "outputs": [
    {
     "name": "stdout",
     "output_type": "stream",
     "text": [
      "0\n",
      "1\n",
      "2\n",
      "3\n",
      "4\n",
      "5\n",
      "6\n",
      "7\n",
      "8\n",
      "9\n",
      "10\n"
     ]
    }
   ],
   "source": [
    "# while \n",
    "\n",
    "i = 0\n",
    "while i<=10:\n",
    "    print(i)\n",
    "    i+=1 # i = i+2"
   ]
  },
  {
   "cell_type": "code",
   "execution_count": 55,
   "id": "812b4467",
   "metadata": {},
   "outputs": [
    {
     "name": "stdout",
     "output_type": "stream",
     "text": [
      "10\n",
      "9\n",
      "8\n",
      "7\n",
      "6\n",
      "5\n",
      "4\n",
      "3\n",
      "2\n",
      "1\n",
      "0\n"
     ]
    }
   ],
   "source": [
    "# while \n",
    "\n",
    "i = 10\n",
    "while i>=0:\n",
    "    print(i)\n",
    "    i-=1 # i = i+2"
   ]
  },
  {
   "cell_type": "code",
   "execution_count": null,
   "id": "73150077",
   "metadata": {},
   "outputs": [],
   "source": []
  },
  {
   "cell_type": "code",
   "execution_count": 59,
   "id": "4a99a5ef",
   "metadata": {},
   "outputs": [
    {
     "name": "stdout",
     "output_type": "stream",
     "text": [
      "1\n",
      "2\n",
      "3\n",
      "4\n",
      "5\n",
      "6\n",
      "7\n",
      "8\n",
      "9\n",
      "10\n"
     ]
    }
   ],
   "source": [
    "for i in range(1,11,1):\n",
    "    print(i)"
   ]
  },
  {
   "cell_type": "code",
   "execution_count": 72,
   "id": "d5697818",
   "metadata": {},
   "outputs": [
    {
     "name": "stdout",
     "output_type": "stream",
     "text": [
      "1 3 5 7 9 "
     ]
    }
   ],
   "source": [
    "for i in range(1,10,2):\n",
    "    print(i,end = \" \")"
   ]
  },
  {
   "cell_type": "code",
   "execution_count": 65,
   "id": "d7f44792",
   "metadata": {},
   "outputs": [
    {
     "name": "stdout",
     "output_type": "stream",
     "text": [
      "10\n",
      "8\n",
      "6\n",
      "4\n",
      "2\n"
     ]
    }
   ],
   "source": [
    "for i in range(10,0,-2):\n",
    "    print(i)"
   ]
  },
  {
   "cell_type": "code",
   "execution_count": 64,
   "id": "777eb320",
   "metadata": {},
   "outputs": [],
   "source": [
    "for i in range(10,0,2):\n",
    "    print(i)"
   ]
  },
  {
   "cell_type": "code",
   "execution_count": 91,
   "id": "4034628b",
   "metadata": {},
   "outputs": [
    {
     "name": "stdout",
     "output_type": "stream",
     "text": [
      "enter symbol :*\n",
      "5\n",
      "3\n",
      "* \n",
      "* * \n",
      "* * * \n",
      "* * * * \n",
      "* * * \n",
      "* * \n",
      "* \n"
     ]
    }
   ],
   "source": [
    "a = input(\"enter symbol :\")\n",
    "b = int(input())\n",
    "c = int(input())\n",
    "for i in range(1,b):\n",
    "    for j in range(1,i+1):\n",
    "        print(a,end = \" \")\n",
    "    print()\n",
    "for i in range(c,0,-1):\n",
    "    for j in range(1,i+1):\n",
    "        print(a,end = \" \")\n",
    "    print()"
   ]
  },
  {
   "cell_type": "code",
   "execution_count": 74,
   "id": "2708aa87",
   "metadata": {},
   "outputs": [
    {
     "name": "stdout",
     "output_type": "stream",
     "text": [
      "1\n"
     ]
    }
   ],
   "source": [
    "for i in range(1,2):\n",
    "    print(i)"
   ]
  },
  {
   "cell_type": "code",
   "execution_count": 75,
   "id": "1bfba711",
   "metadata": {},
   "outputs": [
    {
     "name": "stdout",
     "output_type": "stream",
     "text": [
      "phani\n",
      "phani\n",
      "phani\n",
      "phani\n"
     ]
    }
   ],
   "source": [
    "a = \"phani\"\n",
    "for i in range(1,5):\n",
    "    print(a)"
   ]
  },
  {
   "cell_type": "code",
   "execution_count": 92,
   "id": "2cf72421",
   "metadata": {},
   "outputs": [],
   "source": [
    "# 1. even/odd\n",
    "# 2. +ve/-ve\n",
    "# 3. display uesename\n",
    "# 4. len of the username\n",
    "# 5. symbol program"
   ]
  },
  {
   "cell_type": "code",
   "execution_count": 110,
   "id": "6019d4aa",
   "metadata": {},
   "outputs": [
    {
     "name": "stdout",
     "output_type": "stream",
     "text": [
      "\n",
      "    \n",
      "    1. even/odd\n",
      "    2. +ve/-ve\n",
      "    3. display uesename\n",
      "    4. symbol program\n",
      "    5. exit\n",
      "    \n",
      "    \n",
      "enter ur chooice :6\n",
      "invaild option.\n",
      "\n",
      "    \n",
      "    1. even/odd\n",
      "    2. +ve/-ve\n",
      "    3. display uesename\n",
      "    4. symbol program\n",
      "    5. exit\n",
      "    \n",
      "    \n",
      "enter ur chooice :5\n"
     ]
    }
   ],
   "source": [
    "while True:\n",
    "    a = \"\"\"\n",
    "    \n",
    "    1. even/odd\n",
    "    2. +ve/-ve\n",
    "    3. display uesename\n",
    "    4. symbol program\n",
    "    5. exit\n",
    "    \n",
    "    \"\"\"\n",
    "    print(a)\n",
    "    b = (input(\"enter ur chooice :\"))\n",
    "    if b == \"1\":\n",
    "        while True:\n",
    "            c = int(input(\"enter a num :\"))\n",
    "            if c>0:\n",
    "                if c%2 == 0:\n",
    "                    print(f\"{c} is even\")\n",
    "                    break\n",
    "                else:\n",
    "                    print(f\"{c} is odd\")\n",
    "                    break\n",
    "            else:\n",
    "                print(\"plz enter +ve num.\")\n",
    "    elif b == \"2\":\n",
    "        d = int(input(\"enter a num :\"))\n",
    "        if d>0:\n",
    "            print(f\"{d} is +ve\")\n",
    "        else:\n",
    "            print(f\"{d} is -ve\")\n",
    "    elif b == \"3\":\n",
    "        e = input(\"enter ur name :\")\n",
    "        print(\"-\"*10)\n",
    "        print(f\"Hello {e}\")\n",
    "        f = 0\n",
    "        for i in e:\n",
    "            f+=1\n",
    "        print(f\"{e}'s len is {f}.\")\n",
    "        print(\"-\"*10)\n",
    "    elif b == \"4\":\n",
    "        g= input(\"enter symbol :\")\n",
    "        for i in range(1,5):\n",
    "            for j in range(1,i+1):\n",
    "                print(g,end = \" \")\n",
    "            print()\n",
    "        for i in range(3,0,-1):\n",
    "            for j in range(1,i+1):\n",
    "                print(g,end = \" \")\n",
    "            print()\n",
    "    elif b == \"5\":\n",
    "        break\n",
    "    else:\n",
    "        print(\"invaild option.\")\n",
    "    \n"
   ]
  },
  {
   "cell_type": "code",
   "execution_count": 104,
   "id": "d28150b0",
   "metadata": {},
   "outputs": [
    {
     "name": "stdout",
     "output_type": "stream",
     "text": [
      "10\n"
     ]
    }
   ],
   "source": [
    "a = \"PythonJava\"\n",
    "b = 0\n",
    "for i in a:\n",
    "    b+=1\n",
    "print(b)"
   ]
  },
  {
   "cell_type": "code",
   "execution_count": null,
   "id": "a48ec5f3",
   "metadata": {},
   "outputs": [],
   "source": []
  }
 ],
 "metadata": {
  "kernelspec": {
   "display_name": "Python 3 (ipykernel)",
   "language": "python",
   "name": "python3"
  },
  "language_info": {
   "codemirror_mode": {
    "name": "ipython",
    "version": 3
   },
   "file_extension": ".py",
   "mimetype": "text/x-python",
   "name": "python",
   "nbconvert_exporter": "python",
   "pygments_lexer": "ipython3",
   "version": "3.7.4"
  }
 },
 "nbformat": 4,
 "nbformat_minor": 5
}
