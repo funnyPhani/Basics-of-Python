{
 "cells": [
  {
   "cell_type": "markdown",
   "id": "9ba65fb2",
   "metadata": {},
   "source": [
    "# Python"
   ]
  },
  {
   "cell_type": "markdown",
   "id": "e537d2fb",
   "metadata": {},
   "source": [
    "# Python"
   ]
  },
  {
   "cell_type": "markdown",
   "id": "ee4d0882",
   "metadata": {},
   "source": [
    "## Python"
   ]
  },
  {
   "cell_type": "markdown",
   "id": "7874f3eb",
   "metadata": {},
   "source": [
    "# Python\n",
    "* comments\n",
    "* variables\n",
    "* datatypes\n",
    "* conditional stmts\n"
   ]
  },
  {
   "cell_type": "markdown",
   "id": "8eed1e00",
   "metadata": {},
   "source": [
    "# Comments in Python\n",
    "* single line cmt\n",
    "* multi line cmnt\n",
    "* docstring/triple quote"
   ]
  },
  {
   "cell_type": "code",
   "execution_count": 2,
   "id": "9975c819",
   "metadata": {},
   "outputs": [],
   "source": [
    "# a = 10\n",
    "# this is a var\n",
    "\n",
    "# multiline commnet -- > cntrl+?\n",
    "# vsdfkjjfrhn\n",
    "# hifhgvihf\n",
    "# ghjuhfhbgf\n",
    "# hjuhrhgb"
   ]
  },
  {
   "cell_type": "code",
   "execution_count": 3,
   "id": "037096a9",
   "metadata": {},
   "outputs": [
    {
     "name": "stdout",
     "output_type": "stream",
     "text": [
      "5\n"
     ]
    }
   ],
   "source": [
    "'''\n",
    "\n",
    "\n",
    "cfgsdgfsde\n",
    "sdfvnbsjdhfvb\n",
    "fhvejsdhhs\n",
    "fbhjhrdb\n",
    "hghfyh              fhgfeurigh\n",
    "\n",
    "'''\n",
    "a = 5\n",
    "print(a)"
   ]
  },
  {
   "cell_type": "code",
   "execution_count": 5,
   "id": "c8837f46",
   "metadata": {},
   "outputs": [
    {
     "name": "stdout",
     "output_type": "stream",
     "text": [
      "10\n",
      "<class 'int'>\n"
     ]
    }
   ],
   "source": [
    "# Variables\n",
    "\n",
    "a = 10\n",
    "print(a)\n",
    "print(type(a))"
   ]
  },
  {
   "cell_type": "code",
   "execution_count": 6,
   "id": "2bf1f5c2",
   "metadata": {},
   "outputs": [
    {
     "data": {
      "text/plain": [
       "float"
      ]
     },
     "execution_count": 6,
     "metadata": {},
     "output_type": "execute_result"
    }
   ],
   "source": [
    "b = 25.5\n",
    "type(b)"
   ]
  },
  {
   "cell_type": "markdown",
   "id": "dcb589ca",
   "metadata": {},
   "source": [
    "# rules defining for variables\n",
    "* should not use numerical infornt of var\n",
    "* should not use keywords as var names\n",
    "* datatypes ni var names ga vadachu"
   ]
  },
  {
   "cell_type": "code",
   "execution_count": 7,
   "id": "7cf815ba",
   "metadata": {},
   "outputs": [],
   "source": [
    "a = 10"
   ]
  },
  {
   "cell_type": "code",
   "execution_count": 8,
   "id": "30a80f38",
   "metadata": {},
   "outputs": [
    {
     "name": "stdout",
     "output_type": "stream",
     "text": [
      "10\n"
     ]
    }
   ],
   "source": [
    "a1 = 10\n",
    "print(a)"
   ]
  },
  {
   "cell_type": "code",
   "execution_count": 9,
   "id": "ef248562",
   "metadata": {},
   "outputs": [
    {
     "ename": "SyntaxError",
     "evalue": "invalid syntax (3260425072.py, line 1)",
     "output_type": "error",
     "traceback": [
      "\u001b[1;36m  File \u001b[1;32m\"C:\\Users\\KIRAN\\AppData\\Local\\Temp\\ipykernel_5876\\3260425072.py\"\u001b[1;36m, line \u001b[1;32m1\u001b[0m\n\u001b[1;33m    1a = 10\u001b[0m\n\u001b[1;37m     ^\u001b[0m\n\u001b[1;31mSyntaxError\u001b[0m\u001b[1;31m:\u001b[0m invalid syntax\n"
     ]
    }
   ],
   "source": [
    "1a = 10\n",
    "print(1a)"
   ]
  },
  {
   "cell_type": "code",
   "execution_count": 10,
   "id": "6331a5a3",
   "metadata": {},
   "outputs": [
    {
     "name": "stdout",
     "output_type": "stream",
     "text": [
      "25\n"
     ]
    }
   ],
   "source": [
    "pk = 25\n",
    "print(pk)"
   ]
  },
  {
   "cell_type": "code",
   "execution_count": 11,
   "id": "c501eaf2",
   "metadata": {},
   "outputs": [
    {
     "ename": "SyntaxError",
     "evalue": "invalid syntax (742528728.py, line 1)",
     "output_type": "error",
     "traceback": [
      "\u001b[1;36m  File \u001b[1;32m\"C:\\Users\\KIRAN\\AppData\\Local\\Temp\\ipykernel_5876\\742528728.py\"\u001b[1;36m, line \u001b[1;32m1\u001b[0m\n\u001b[1;33m    for = 85\u001b[0m\n\u001b[1;37m        ^\u001b[0m\n\u001b[1;31mSyntaxError\u001b[0m\u001b[1;31m:\u001b[0m invalid syntax\n"
     ]
    }
   ],
   "source": [
    "for = 85\n",
    "print(for)"
   ]
  },
  {
   "cell_type": "code",
   "execution_count": 19,
   "id": "21e7c0e9",
   "metadata": {},
   "outputs": [
    {
     "name": "stdout",
     "output_type": "stream",
     "text": [
      "['False', 'None', 'True', 'and', 'as', 'assert', 'async', 'await', 'break', 'class', 'continue', 'def', 'del', 'elif', 'else', 'except', 'finally', 'for', 'from', 'global', 'if', 'import', 'in', 'is', 'lambda', 'nonlocal', 'not', 'or', 'pass', 'raise', 'return', 'try', 'while', 'with', 'yield']\n"
     ]
    }
   ],
   "source": [
    "import keyword\n",
    "print(keyword.kwlist)"
   ]
  },
  {
   "cell_type": "code",
   "execution_count": 20,
   "id": "8f15f955",
   "metadata": {},
   "outputs": [
    {
     "name": "stdout",
     "output_type": "stream",
     "text": [
      "45\n"
     ]
    }
   ],
   "source": [
    "int = 45\n",
    "print(int)"
   ]
  },
  {
   "cell_type": "code",
   "execution_count": 21,
   "id": "2472b5ca",
   "metadata": {},
   "outputs": [
    {
     "name": "stdout",
     "output_type": "stream",
     "text": [
      "45\n"
     ]
    }
   ],
   "source": [
    "str = 45\n",
    "print(str)"
   ]
  },
  {
   "cell_type": "code",
   "execution_count": 22,
   "id": "37b542b3",
   "metadata": {},
   "outputs": [
    {
     "name": "stdout",
     "output_type": "stream",
     "text": [
      "45\n"
     ]
    }
   ],
   "source": [
    "# _ = 45  # dummay variable\n",
    "print(_)"
   ]
  },
  {
   "cell_type": "code",
   "execution_count": 23,
   "id": "e1d557d3",
   "metadata": {},
   "outputs": [
    {
     "ename": "SyntaxError",
     "evalue": "invalid syntax (3126236108.py, line 1)",
     "output_type": "error",
     "traceback": [
      "\u001b[1;36m  File \u001b[1;32m\"C:\\Users\\KIRAN\\AppData\\Local\\Temp\\ipykernel_5876\\3126236108.py\"\u001b[1;36m, line \u001b[1;32m1\u001b[0m\n\u001b[1;33m    @ = 25\u001b[0m\n\u001b[1;37m      ^\u001b[0m\n\u001b[1;31mSyntaxError\u001b[0m\u001b[1;31m:\u001b[0m invalid syntax\n"
     ]
    }
   ],
   "source": [
    "@ = 25\n",
    "print(@)"
   ]
  },
  {
   "cell_type": "code",
   "execution_count": 24,
   "id": "4ba8df9c",
   "metadata": {},
   "outputs": [
    {
     "name": "stdout",
     "output_type": "stream",
     "text": [
      "15\n"
     ]
    }
   ],
   "source": [
    "_1a = 15\n",
    "print(_1a)"
   ]
  },
  {
   "cell_type": "code",
   "execution_count": 25,
   "id": "7880f7a6",
   "metadata": {},
   "outputs": [
    {
     "name": "stdout",
     "output_type": "stream",
     "text": [
      "1 2 3\n"
     ]
    }
   ],
   "source": [
    "a,b,c = 1,2,3\n",
    "print(a,b,c)"
   ]
  },
  {
   "cell_type": "code",
   "execution_count": 26,
   "id": "d1d31949",
   "metadata": {},
   "outputs": [
    {
     "ename": "ValueError",
     "evalue": "not enough values to unpack (expected 4, got 3)",
     "output_type": "error",
     "traceback": [
      "\u001b[1;31m---------------------------------------------------------------------------\u001b[0m",
      "\u001b[1;31mValueError\u001b[0m                                Traceback (most recent call last)",
      "\u001b[1;32m~\\AppData\\Local\\Temp\\ipykernel_5876\\2181184404.py\u001b[0m in \u001b[0;36m<module>\u001b[1;34m\u001b[0m\n\u001b[1;32m----> 1\u001b[1;33m \u001b[0ma\u001b[0m\u001b[1;33m,\u001b[0m\u001b[0mb\u001b[0m\u001b[1;33m,\u001b[0m\u001b[0mc\u001b[0m\u001b[1;33m,\u001b[0m\u001b[0md\u001b[0m \u001b[1;33m=\u001b[0m \u001b[1;36m1\u001b[0m\u001b[1;33m,\u001b[0m\u001b[1;36m2\u001b[0m\u001b[1;33m,\u001b[0m\u001b[1;36m3\u001b[0m\u001b[1;33m\u001b[0m\u001b[1;33m\u001b[0m\u001b[0m\n\u001b[0m\u001b[0;32m      2\u001b[0m \u001b[0mprint\u001b[0m\u001b[1;33m(\u001b[0m\u001b[0ma\u001b[0m\u001b[1;33m,\u001b[0m\u001b[0mb\u001b[0m\u001b[1;33m,\u001b[0m\u001b[0mc\u001b[0m\u001b[1;33m,\u001b[0m\u001b[0md\u001b[0m\u001b[1;33m)\u001b[0m\u001b[1;33m\u001b[0m\u001b[1;33m\u001b[0m\u001b[0m\n",
      "\u001b[1;31mValueError\u001b[0m: not enough values to unpack (expected 4, got 3)"
     ]
    }
   ],
   "source": [
    "a,b,c,d = 1,2,3\n",
    "print(a,b,c,d)"
   ]
  },
  {
   "cell_type": "code",
   "execution_count": 27,
   "id": "cf84fded",
   "metadata": {},
   "outputs": [
    {
     "name": "stdout",
     "output_type": "stream",
     "text": [
      "10\n"
     ]
    }
   ],
   "source": [
    "a = 5\n",
    "a = 10\n",
    "print(a)"
   ]
  },
  {
   "cell_type": "code",
   "execution_count": 28,
   "id": "859a04bc",
   "metadata": {},
   "outputs": [
    {
     "name": "stdout",
     "output_type": "stream",
     "text": [
      "1 2 3 5\n"
     ]
    }
   ],
   "source": [
    "a,b,c,d,d = 1,2,3,4,5\n",
    "print(a,b,c,d)"
   ]
  },
  {
   "cell_type": "code",
   "execution_count": 29,
   "id": "48cb4cd4",
   "metadata": {},
   "outputs": [
    {
     "name": "stdout",
     "output_type": "stream",
     "text": [
      "1 2 3 5\n"
     ]
    }
   ],
   "source": [
    "a,b,c,_,_ = 1,2,3,4,5\n",
    "print(a,b,c,_)"
   ]
  },
  {
   "cell_type": "code",
   "execution_count": 30,
   "id": "1de3f951",
   "metadata": {},
   "outputs": [
    {
     "name": "stdout",
     "output_type": "stream",
     "text": [
      "1 pyhton 22.5\n"
     ]
    }
   ],
   "source": [
    "a,b,c = 1,\"pyhton\",22.5\n",
    "print(a,b,c)"
   ]
  },
  {
   "cell_type": "code",
   "execution_count": 31,
   "id": "3c2a1e41",
   "metadata": {},
   "outputs": [
    {
     "name": "stdout",
     "output_type": "stream",
     "text": [
      "(1, 2, 3, 'Python', 5.66)\n"
     ]
    }
   ],
   "source": [
    "a = b = c = 1,2,3,\"Python\",5.66 # multi assignment\n",
    "print(a)"
   ]
  },
  {
   "cell_type": "code",
   "execution_count": 32,
   "id": "1b42d3e3",
   "metadata": {},
   "outputs": [
    {
     "name": "stdout",
     "output_type": "stream",
     "text": [
      "(1, 2, 3, 'Python', 5.66)\n"
     ]
    }
   ],
   "source": [
    "print(b)"
   ]
  },
  {
   "cell_type": "code",
   "execution_count": 33,
   "id": "68323c5d",
   "metadata": {},
   "outputs": [
    {
     "name": "stdout",
     "output_type": "stream",
     "text": [
      "(1, 2, 3, 'Python', 5.66)\n"
     ]
    }
   ],
   "source": [
    "print(c)"
   ]
  },
  {
   "cell_type": "code",
   "execution_count": 34,
   "id": "05850ccf",
   "metadata": {},
   "outputs": [
    {
     "name": "stdout",
     "output_type": "stream",
     "text": [
      "32.5\n"
     ]
    }
   ],
   "source": [
    "# type casting or type conversion \n",
    "# 1. implict\n",
    "# 2. explict\n",
    "a = 10\n",
    "b = 22.5\n",
    "c = a+b\n",
    "print(c)"
   ]
  },
  {
   "cell_type": "code",
   "execution_count": 4,
   "id": "e9d56dfb",
   "metadata": {},
   "outputs": [
    {
     "name": "stdout",
     "output_type": "stream",
     "text": [
      "<class 'str'>\n",
      "5Java\n"
     ]
    }
   ],
   "source": [
    "a = str(5) # explict\n",
    "print(type(a))\n",
    "b = \"Java\"\n",
    "print(a+b)"
   ]
  },
  {
   "cell_type": "code",
   "execution_count": 6,
   "id": "fea0851b",
   "metadata": {},
   "outputs": [
    {
     "name": "stdout",
     "output_type": "stream",
     "text": [
      "enter a num :45\n",
      "<class 'int'> 45\n"
     ]
    }
   ],
   "source": [
    "a = int(input(\"enter a num :\"))\n",
    "print(type(a),a)"
   ]
  },
  {
   "cell_type": "markdown",
   "id": "83dc92da",
   "metadata": {},
   "source": [
    "# Conditioal stmts\n",
    "1. if\n",
    "2. else\n",
    "3. elif\n",
    "4. nested conditions"
   ]
  },
  {
   "cell_type": "code",
   "execution_count": 13,
   "id": "d9acca19",
   "metadata": {},
   "outputs": [
    {
     "name": "stdout",
     "output_type": "stream",
     "text": [
      "Hi ur name is Phani and ur sub is  Python\n",
      "Hi ur name is,Phani, and ur sub is Python\n",
      "Hi ur name is,Python, and ur sub is Phani\n",
      "Hi ur name is,Phani, and ur sub is Python\n"
     ]
    }
   ],
   "source": [
    "name = \"Phani\"\n",
    "sub = \"Python\"\n",
    "\n",
    "print(\"Hi ur name is\",name, \"and ur sub is \",sub)\n",
    "print(\"Hi ur name is,{}, and ur sub is {}\".format(name,sub))\n",
    "print(\"Hi ur name is,{1}, and ur sub is {0}\".format(name,sub))\n",
    "\n",
    "print(f\"Hi ur name is,{name}, and ur sub is {sub}\")\n"
   ]
  },
  {
   "cell_type": "code",
   "execution_count": 17,
   "id": "b4d54f96",
   "metadata": {},
   "outputs": [
    {
     "name": "stdout",
     "output_type": "stream",
     "text": [
      "-5\n",
      "-5 is odd\n"
     ]
    }
   ],
   "source": [
    "# if condition\n",
    "a = int(input())\n",
    "if a%2 == 0:\n",
    "    print(f\"{a} is even\")\n",
    "else:\n",
    "    print(f\"{a} is odd\")    "
   ]
  },
  {
   "cell_type": "code",
   "execution_count": 25,
   "id": "20e5e38d",
   "metadata": {},
   "outputs": [
    {
     "name": "stdout",
     "output_type": "stream",
     "text": [
      "5\n",
      "5 is odd\n"
     ]
    }
   ],
   "source": [
    "# nested condition\n",
    "a = int(input())\n",
    "if a >0:\n",
    "    if a%2 == 0:\n",
    "        print(f\"{a} is even\")\n",
    "    else:\n",
    "        print(f\"{a} is odd\") \n",
    "else:\n",
    "    print(\"plz enter +ve num.\")"
   ]
  },
  {
   "cell_type": "code",
   "execution_count": 31,
   "id": "52698c32",
   "metadata": {},
   "outputs": [
    {
     "name": "stdout",
     "output_type": "stream",
     "text": [
      "-66\n",
      "plz enter +ve num.\n",
      "-4156\n",
      "plz enter +ve num.\n",
      "-454\n",
      "plz enter +ve num.\n",
      "45\n",
      "45 is odd\n"
     ]
    }
   ],
   "source": [
    "# if condition\n",
    "while True:\n",
    "    a = int(input())\n",
    "    if a >0:\n",
    "        if a%2 == 0:\n",
    "            print(f\"{a} is even\")\n",
    "            break\n",
    "        else:\n",
    "            print(f\"{a} is odd\")\n",
    "            break\n",
    "    else:\n",
    "        print(\"plz enter +ve num.\")"
   ]
  },
  {
   "cell_type": "code",
   "execution_count": 39,
   "id": "2346d68d",
   "metadata": {},
   "outputs": [
    {
     "name": "stdout",
     "output_type": "stream",
     "text": [
      "----------\n",
      "Iteration :1\n",
      "----------\n",
      "-5\n",
      "plz enter +ve num.\n",
      "----------\n",
      "Iteration :2\n",
      "----------\n",
      "-555\n",
      "plz enter +ve num.\n",
      "----------\n",
      "Iteration :3\n",
      "----------\n",
      "-33\n",
      "plz enter +ve num.\n",
      "----------\n",
      "Iteration :4\n",
      "----------\n",
      "45\n",
      "45 is odd\n"
     ]
    }
   ],
   "source": [
    "i = 0\n",
    "while True and i<=3:\n",
    "    i+=1\n",
    "    print(\"-\"*10)\n",
    "    print(f\"Iteration :{i}\")\n",
    "    print(\"-\"*10)\n",
    "\n",
    "    a = int(input())\n",
    "    if a >0:\n",
    "        if a%2 == 0:\n",
    "            print(f\"{a} is even\")\n",
    "            break\n",
    "        else:\n",
    "            print(f\"{a} is odd\")\n",
    "            break\n",
    "    else:\n",
    "        print(\"plz enter +ve num.\")\n",
    "else:\n",
    "    print(\"ur limit exceded.\")"
   ]
  },
  {
   "cell_type": "code",
   "execution_count": 37,
   "id": "9badcdb8",
   "metadata": {},
   "outputs": [
    {
     "name": "stdout",
     "output_type": "stream",
     "text": [
      "----------------------------------------------------------------------------------------------------------------------------------------------------------------------------------------------------------------------------------------------------------\n"
     ]
    }
   ],
   "source": [
    "print(\"-\"*250)"
   ]
  },
  {
   "cell_type": "code",
   "execution_count": 41,
   "id": "28f16322",
   "metadata": {},
   "outputs": [
    {
     "name": "stdout",
     "output_type": "stream",
     "text": [
      "hi\n",
      "hi\n"
     ]
    }
   ],
   "source": [
    "print(\"hi\")\n",
    "print('hi')"
   ]
  },
  {
   "cell_type": "code",
   "execution_count": 44,
   "id": "e68ae9fb",
   "metadata": {},
   "outputs": [
    {
     "name": "stdout",
     "output_type": "stream",
     "text": [
      "I'm fine.\n",
      "I'm fine.\n"
     ]
    }
   ],
   "source": [
    "print(\"I'm fine.\")\n",
    "print('I\\'m fine.')"
   ]
  },
  {
   "cell_type": "code",
   "execution_count": 49,
   "id": "7f570bb9",
   "metadata": {},
   "outputs": [
    {
     "name": "stdout",
     "output_type": "stream",
     "text": [
      "512\n",
      "500-1000\n",
      "10000\n",
      ">1000...\n"
     ]
    }
   ],
   "source": [
    "# if elif\n",
    "while True:\n",
    "    a = int(input())\n",
    "    if a>0:\n",
    "        if a>0 and a<=100:\n",
    "            print(\"0-100\")\n",
    "        elif a>100 and a<=200:\n",
    "            print(\"100-200\")\n",
    "        elif a>500 and a<=1000:\n",
    "            print(\"500-1000\")\n",
    "        else:\n",
    "            print(\">1000...\")\n",
    "            break\n",
    "\n",
    "    else:\n",
    "        print(\"plz enter +ve num\")"
   ]
  },
  {
   "cell_type": "markdown",
   "id": "7e26a791",
   "metadata": {},
   "source": [
    "# loops in Python\n",
    "\n",
    "* while\n",
    "* for\n",
    "* nested loops"
   ]
  },
  {
   "cell_type": "code",
   "execution_count": 53,
   "id": "4e75a293",
   "metadata": {},
   "outputs": [
    {
     "name": "stdout",
     "output_type": "stream",
     "text": [
      "0\n",
      "1\n",
      "2\n",
      "3\n",
      "4\n",
      "5\n",
      "6\n",
      "7\n",
      "8\n",
      "9\n",
      "10\n"
     ]
    }
   ],
   "source": [
    "# while \n",
    "\n",
    "i = 0\n",
    "while i<=10:\n",
    "    print(i)\n",
    "    i+=1 # i = i+2"
   ]
  },
  {
   "cell_type": "code",
   "execution_count": 55,
   "id": "f38a934b",
   "metadata": {},
   "outputs": [
    {
     "name": "stdout",
     "output_type": "stream",
     "text": [
      "10\n",
      "9\n",
      "8\n",
      "7\n",
      "6\n",
      "5\n",
      "4\n",
      "3\n",
      "2\n",
      "1\n",
      "0\n"
     ]
    }
   ],
   "source": [
    "# while \n",
    "\n",
    "i = 10\n",
    "while i>=0:\n",
    "    print(i)\n",
    "    i-=1 # i = i+2"
   ]
  },
  {
   "cell_type": "code",
   "execution_count": null,
   "id": "98e743c4",
   "metadata": {},
   "outputs": [],
   "source": []
  },
  {
   "cell_type": "code",
   "execution_count": 59,
   "id": "c836bf9f",
   "metadata": {},
   "outputs": [
    {
     "name": "stdout",
     "output_type": "stream",
     "text": [
      "1\n",
      "2\n",
      "3\n",
      "4\n",
      "5\n",
      "6\n",
      "7\n",
      "8\n",
      "9\n",
      "10\n"
     ]
    }
   ],
   "source": [
    "for i in range(1,11,1):\n",
    "    print(i)"
   ]
  },
  {
   "cell_type": "code",
   "execution_count": 72,
   "id": "ec43ad61",
   "metadata": {},
   "outputs": [
    {
     "name": "stdout",
     "output_type": "stream",
     "text": [
      "1 3 5 7 9 "
     ]
    }
   ],
   "source": [
    "for i in range(1,10,2):\n",
    "    print(i,end = \" \")"
   ]
  },
  {
   "cell_type": "code",
   "execution_count": 65,
   "id": "7058e17a",
   "metadata": {},
   "outputs": [
    {
     "name": "stdout",
     "output_type": "stream",
     "text": [
      "10\n",
      "8\n",
      "6\n",
      "4\n",
      "2\n"
     ]
    }
   ],
   "source": [
    "for i in range(10,0,-2):\n",
    "    print(i)"
   ]
  },
  {
   "cell_type": "code",
   "execution_count": 64,
   "id": "854bb558",
   "metadata": {},
   "outputs": [],
   "source": [
    "for i in range(10,0,2):\n",
    "    print(i)"
   ]
  },
  {
   "cell_type": "code",
   "execution_count": 91,
   "id": "17cceedc",
   "metadata": {},
   "outputs": [
    {
     "name": "stdout",
     "output_type": "stream",
     "text": [
      "enter symbol :*\n",
      "5\n",
      "3\n",
      "* \n",
      "* * \n",
      "* * * \n",
      "* * * * \n",
      "* * * \n",
      "* * \n",
      "* \n"
     ]
    }
   ],
   "source": [
    "a = input(\"enter symbol :\")\n",
    "b = int(input())\n",
    "c = int(input())\n",
    "for i in range(1,b):\n",
    "    for j in range(1,i+1):\n",
    "        print(a,end = \" \")\n",
    "    print()\n",
    "for i in range(c,0,-1):\n",
    "    for j in range(1,i+1):\n",
    "        print(a,end = \" \")\n",
    "    print()"
   ]
  },
  {
   "cell_type": "code",
   "execution_count": 74,
   "id": "861e8816",
   "metadata": {},
   "outputs": [
    {
     "name": "stdout",
     "output_type": "stream",
     "text": [
      "1\n"
     ]
    }
   ],
   "source": [
    "for i in range(1,2):\n",
    "    print(i)"
   ]
  },
  {
   "cell_type": "code",
   "execution_count": 75,
   "id": "62817901",
   "metadata": {},
   "outputs": [
    {
     "name": "stdout",
     "output_type": "stream",
     "text": [
      "phani\n",
      "phani\n",
      "phani\n",
      "phani\n"
     ]
    }
   ],
   "source": [
    "a = \"phani\"\n",
    "for i in range(1,5):\n",
    "    print(a)"
   ]
  },
  {
   "cell_type": "code",
   "execution_count": 89,
   "id": "8a384cd3",
   "metadata": {},
   "outputs": [
    {
     "ename": "SyntaxError",
     "evalue": "invalid syntax (4149331575.py, line 1)",
     "output_type": "error",
     "traceback": [
      "\u001b[1;36m  File \u001b[1;32m\"C:\\Users\\KIRAN\\AppData\\Local\\Temp\\ipykernel_18460\\4149331575.py\"\u001b[1;36m, line \u001b[1;32m1\u001b[0m\n\u001b[1;33m    1. even/odd\u001b[0m\n\u001b[1;37m          ^\u001b[0m\n\u001b[1;31mSyntaxError\u001b[0m\u001b[1;31m:\u001b[0m invalid syntax\n"
     ]
    }
   ],
   "source": [
    "1. even/odd\n",
    "2. +ve/-ve\n",
    "3. display uesename\n",
    "4. len of the username\n",
    "5. symbol program"
   ]
  },
  {
   "cell_type": "code",
   "execution_count": null,
   "id": "97564b5d",
   "metadata": {},
   "outputs": [],
   "source": []
  }
 ],
 "metadata": {
  "kernelspec": {
   "display_name": "Python 3 (ipykernel)",
   "language": "python",
   "name": "python3"
  },
  "language_info": {
   "codemirror_mode": {
    "name": "ipython",
    "version": 3
   },
   "file_extension": ".py",
   "mimetype": "text/x-python",
   "name": "python",
   "nbconvert_exporter": "python",
   "pygments_lexer": "ipython3",
   "version": "3.7.4"
  }
 },
 "nbformat": 4,
 "nbformat_minor": 5
}
